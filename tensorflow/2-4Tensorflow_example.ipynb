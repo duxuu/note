{
 "cells": [
  {
   "cell_type": "markdown",
   "metadata": {},
   "source": [
    "# 课程地址：https://www.bilibili.com/video/av30404032"
   ]
  },
  {
   "cell_type": "code",
   "execution_count": null,
   "metadata": {
    "collapsed": true,
    "scrolled": true
   },
   "outputs": [],
   "source": [
    "import numpy as np\n",
    "import tensorflow as tf"
   ]
  },
  {
   "cell_type": "code",
   "execution_count": 3,
   "metadata": {},
   "outputs": [
    {
     "name": "stdout",
     "output_type": "stream",
     "text": [
      "0 [0.055005718, 0.10061721]\n",
      "20 [0.10447841, 0.19754095]\n",
      "40 [0.1027264, 0.198503]\n",
      "60 [0.10165979, 0.19908865]\n",
      "80 [0.10101046, 0.19944519]\n",
      "100 [0.10061516, 0.19966222]\n",
      "120 [0.100374475, 0.19979438]\n",
      "140 [0.100227974, 0.19987482]\n",
      "160 [0.10013878, 0.1999238]\n",
      "180 [0.10008449, 0.1999536]\n",
      "200 [0.10005143, 0.19997177]\n"
     ]
    }
   ],
   "source": [
    "# 生成100个随机点\n",
    "x_data = np.random.rand(100)\n",
    "y_data = x_data * 0.1 + 0.2\n",
    "\n",
    "# 构造一个线性函数\n",
    "b = tf.Variable(0.)\n",
    "k = tf.Variable(0.)\n",
    "y = k * x_data + b\n",
    "\n",
    "# 二次代价函数\n",
    "loss = tf.reduce_mean(tf.square(y_data - y))\n",
    "# 定义一个梯度下降法作为训练的优化器，参数表示学习率\n",
    "optimizer = tf.train.GradientDescentOptimizer(0.2)\n",
    "# 最小化代价函数\n",
    "train = optimizer.minimize(loss)\n",
    "\n",
    "# 初始化变量\n",
    "init = tf.global_variables_initializer()\n",
    "\n",
    "with tf.Session() as sess:\n",
    "    sess.run(init)\n",
    "    for step in range(201):\n",
    "        sess.run(train)\n",
    "        # 每隔20步，打印一次结果\n",
    "        if step % 20 == 0:\n",
    "            print(step, sess.run([k, b]))"
   ]
  }
 ],
 "metadata": {
  "kernelspec": {
   "display_name": "Python 3",
   "language": "python",
   "name": "python3"
  },
  "language_info": {
   "codemirror_mode": {
    "name": "ipython",
    "version": 3
   },
   "file_extension": ".py",
   "mimetype": "text/x-python",
   "name": "python",
   "nbconvert_exporter": "python",
   "pygments_lexer": "ipython3",
   "version": "3.5.2"
  }
 },
 "nbformat": 4,
 "nbformat_minor": 2
}
